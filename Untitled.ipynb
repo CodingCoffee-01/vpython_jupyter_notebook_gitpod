{
 "cells": [
  {
   "cell_type": "code",
   "execution_count": 1,
   "id": "13c3c66a",
   "metadata": {},
   "outputs": [
    {
     "name": "stdout",
     "output_type": "stream",
     "text": [
      "Requirement already satisfied: vpython in /home/gitpod/.pyenv/versions/3.8.12/lib/python3.8/site-packages (7.6.3)\n",
      "Requirement already satisfied: jupyter in /home/gitpod/.pyenv/versions/3.8.12/lib/python3.8/site-packages (from vpython) (1.0.0)\n",
      "Requirement already satisfied: numpy in /home/gitpod/.pyenv/versions/3.8.12/lib/python3.8/site-packages (from vpython) (1.22.1)\n",
      "Requirement already satisfied: ipykernel in /home/gitpod/.pyenv/versions/3.8.12/lib/python3.8/site-packages (from vpython) (6.4.1)\n",
      "Requirement already satisfied: jupyter-server-proxy in /home/gitpod/.pyenv/versions/3.8.12/lib/python3.8/site-packages (from vpython) (3.2.0)\n",
      "Requirement already satisfied: autobahn>=18.8.2 in /home/gitpod/.pyenv/versions/3.8.12/lib/python3.8/site-packages (from vpython) (21.11.1)\n",
      "Requirement already satisfied: txaio>=21.2.1 in /home/gitpod/.pyenv/versions/3.8.12/lib/python3.8/site-packages (from autobahn>=18.8.2->vpython) (21.2.1)\n",
      "Requirement already satisfied: hyperlink>=21.0.0 in /home/gitpod/.pyenv/versions/3.8.12/lib/python3.8/site-packages (from autobahn>=18.8.2->vpython) (21.0.0)\n",
      "Requirement already satisfied: cryptography>=3.4.6 in /home/gitpod/.pyenv/versions/3.8.12/lib/python3.8/site-packages (from autobahn>=18.8.2->vpython) (3.4.8)\n",
      "Requirement already satisfied: setuptools in /home/gitpod/.pyenv/versions/3.8.12/lib/python3.8/site-packages (from autobahn>=18.8.2->vpython) (58.0.4)\n",
      "Requirement already satisfied: cffi>=1.12 in /home/gitpod/.pyenv/versions/3.8.12/lib/python3.8/site-packages (from cryptography>=3.4.6->autobahn>=18.8.2->vpython) (1.14.6)\n",
      "Requirement already satisfied: pycparser in /home/gitpod/.pyenv/versions/3.8.12/lib/python3.8/site-packages (from cffi>=1.12->cryptography>=3.4.6->autobahn>=18.8.2->vpython) (2.20)\n",
      "Requirement already satisfied: idna>=2.5 in /home/gitpod/.pyenv/versions/3.8.12/lib/python3.8/site-packages (from hyperlink>=21.0.0->autobahn>=18.8.2->vpython) (3.2)\n",
      "Requirement already satisfied: matplotlib-inline<0.2.0,>=0.1.0 in /home/gitpod/.pyenv/versions/3.8.12/lib/python3.8/site-packages (from ipykernel->vpython) (0.1.3)\n",
      "Requirement already satisfied: tornado<7.0,>=4.2 in /home/gitpod/.pyenv/versions/3.8.12/lib/python3.8/site-packages (from ipykernel->vpython) (6.1)\n",
      "Requirement already satisfied: traitlets<6.0,>=4.1.0 in /home/gitpod/.pyenv/versions/3.8.12/lib/python3.8/site-packages (from ipykernel->vpython) (5.1.0)\n",
      "Requirement already satisfied: jupyter-client<8.0 in /home/gitpod/.pyenv/versions/3.8.12/lib/python3.8/site-packages (from ipykernel->vpython) (7.0.2)\n",
      "Requirement already satisfied: debugpy<2.0,>=1.0.0 in /home/gitpod/.pyenv/versions/3.8.12/lib/python3.8/site-packages (from ipykernel->vpython) (1.4.3)\n",
      "Requirement already satisfied: ipython<8.0,>=7.23.1 in /home/gitpod/.pyenv/versions/3.8.12/lib/python3.8/site-packages (from ipykernel->vpython) (7.27.0)\n",
      "Requirement already satisfied: ipython-genutils in /home/gitpod/.pyenv/versions/3.8.12/lib/python3.8/site-packages (from ipykernel->vpython) (0.2.0)\n",
      "Requirement already satisfied: pickleshare in /home/gitpod/.pyenv/versions/3.8.12/lib/python3.8/site-packages (from ipython<8.0,>=7.23.1->ipykernel->vpython) (0.7.5)\n",
      "Requirement already satisfied: decorator in /home/gitpod/.pyenv/versions/3.8.12/lib/python3.8/site-packages (from ipython<8.0,>=7.23.1->ipykernel->vpython) (5.1.0)\n",
      "Requirement already satisfied: jedi>=0.16 in /home/gitpod/.pyenv/versions/3.8.12/lib/python3.8/site-packages (from ipython<8.0,>=7.23.1->ipykernel->vpython) (0.18.0)\n",
      "Requirement already satisfied: pygments in /home/gitpod/.pyenv/versions/3.8.12/lib/python3.8/site-packages (from ipython<8.0,>=7.23.1->ipykernel->vpython) (2.10.0)\n",
      "Requirement already satisfied: prompt-toolkit!=3.0.0,!=3.0.1,<3.1.0,>=2.0.0 in /home/gitpod/.pyenv/versions/3.8.12/lib/python3.8/site-packages (from ipython<8.0,>=7.23.1->ipykernel->vpython) (3.0.20)\n",
      "Requirement already satisfied: pexpect>4.3 in /home/gitpod/.pyenv/versions/3.8.12/lib/python3.8/site-packages (from ipython<8.0,>=7.23.1->ipykernel->vpython) (4.8.0)\n",
      "Requirement already satisfied: backcall in /home/gitpod/.pyenv/versions/3.8.12/lib/python3.8/site-packages (from ipython<8.0,>=7.23.1->ipykernel->vpython) (0.2.0)\n",
      "Requirement already satisfied: parso<0.9.0,>=0.8.0 in /home/gitpod/.pyenv/versions/3.8.12/lib/python3.8/site-packages (from jedi>=0.16->ipython<8.0,>=7.23.1->ipykernel->vpython) (0.8.2)\n",
      "Requirement already satisfied: entrypoints in /home/gitpod/.pyenv/versions/3.8.12/lib/python3.8/site-packages (from jupyter-client<8.0->ipykernel->vpython) (0.3)\n",
      "Requirement already satisfied: nest-asyncio>=1.5 in /home/gitpod/.pyenv/versions/3.8.12/lib/python3.8/site-packages (from jupyter-client<8.0->ipykernel->vpython) (1.5.1)\n",
      "Requirement already satisfied: python-dateutil>=2.1 in /home/gitpod/.pyenv/versions/3.8.12/lib/python3.8/site-packages (from jupyter-client<8.0->ipykernel->vpython) (2.8.2)\n",
      "Requirement already satisfied: jupyter-core>=4.6.0 in /home/gitpod/.pyenv/versions/3.8.12/lib/python3.8/site-packages (from jupyter-client<8.0->ipykernel->vpython) (4.7.1)\n",
      "Requirement already satisfied: pyzmq>=13 in /home/gitpod/.pyenv/versions/3.8.12/lib/python3.8/site-packages (from jupyter-client<8.0->ipykernel->vpython) (22.2.1)\n",
      "Requirement already satisfied: ptyprocess>=0.5 in /home/gitpod/.pyenv/versions/3.8.12/lib/python3.8/site-packages (from pexpect>4.3->ipython<8.0,>=7.23.1->ipykernel->vpython) (0.7.0)\n",
      "Requirement already satisfied: wcwidth in /home/gitpod/.pyenv/versions/3.8.12/lib/python3.8/site-packages (from prompt-toolkit!=3.0.0,!=3.0.1,<3.1.0,>=2.0.0->ipython<8.0,>=7.23.1->ipykernel->vpython) (0.2.5)\n",
      "Requirement already satisfied: six>=1.5 in /home/gitpod/.pyenv/versions/3.8.12/lib/python3.8/site-packages (from python-dateutil>=2.1->jupyter-client<8.0->ipykernel->vpython) (1.16.0)\n",
      "Requirement already satisfied: nbconvert in /home/gitpod/.pyenv/versions/3.8.12/lib/python3.8/site-packages (from jupyter->vpython) (6.1.0)\n",
      "Requirement already satisfied: qtconsole in /home/gitpod/.pyenv/versions/3.8.12/lib/python3.8/site-packages (from jupyter->vpython) (5.2.2)\n",
      "Requirement already satisfied: notebook in /home/gitpod/.pyenv/versions/3.8.12/lib/python3.8/site-packages (from jupyter->vpython) (6.4.3)\n",
      "Requirement already satisfied: ipywidgets in /home/gitpod/.pyenv/versions/3.8.12/lib/python3.8/site-packages (from jupyter->vpython) (7.6.5)\n",
      "Requirement already satisfied: jupyter-console in /home/gitpod/.pyenv/versions/3.8.12/lib/python3.8/site-packages (from jupyter->vpython) (6.4.0)\n",
      "Requirement already satisfied: widgetsnbextension~=3.5.0 in /home/gitpod/.pyenv/versions/3.8.12/lib/python3.8/site-packages (from ipywidgets->jupyter->vpython) (3.5.2)\n",
      "Requirement already satisfied: nbformat>=4.2.0 in /home/gitpod/.pyenv/versions/3.8.12/lib/python3.8/site-packages (from ipywidgets->jupyter->vpython) (5.1.3)\n",
      "Requirement already satisfied: jupyterlab-widgets>=1.0.0 in /home/gitpod/.pyenv/versions/3.8.12/lib/python3.8/site-packages (from ipywidgets->jupyter->vpython) (1.0.2)\n",
      "Requirement already satisfied: jsonschema!=2.5.0,>=2.4 in /home/gitpod/.pyenv/versions/3.8.12/lib/python3.8/site-packages (from nbformat>=4.2.0->ipywidgets->jupyter->vpython) (3.2.0)\n",
      "Requirement already satisfied: pyrsistent>=0.14.0 in /home/gitpod/.pyenv/versions/3.8.12/lib/python3.8/site-packages (from jsonschema!=2.5.0,>=2.4->nbformat>=4.2.0->ipywidgets->jupyter->vpython) (0.18.0)\n",
      "Requirement already satisfied: attrs>=17.4.0 in /home/gitpod/.pyenv/versions/3.8.12/lib/python3.8/site-packages (from jsonschema!=2.5.0,>=2.4->nbformat>=4.2.0->ipywidgets->jupyter->vpython) (21.2.0)\n",
      "Requirement already satisfied: prometheus-client in /home/gitpod/.pyenv/versions/3.8.12/lib/python3.8/site-packages (from notebook->jupyter->vpython) (0.11.0)\n",
      "Requirement already satisfied: Send2Trash>=1.5.0 in /home/gitpod/.pyenv/versions/3.8.12/lib/python3.8/site-packages (from notebook->jupyter->vpython) (1.8.0)\n",
      "Requirement already satisfied: jinja2 in /home/gitpod/.pyenv/versions/3.8.12/lib/python3.8/site-packages (from notebook->jupyter->vpython) (3.0.1)\n",
      "Requirement already satisfied: terminado>=0.8.3 in /home/gitpod/.pyenv/versions/3.8.12/lib/python3.8/site-packages (from notebook->jupyter->vpython) (0.12.1)\n",
      "Requirement already satisfied: argon2-cffi in /home/gitpod/.pyenv/versions/3.8.12/lib/python3.8/site-packages (from notebook->jupyter->vpython) (21.1.0)\n"
     ]
    },
    {
     "name": "stdout",
     "output_type": "stream",
     "text": [
      "Requirement already satisfied: MarkupSafe>=2.0 in /home/gitpod/.pyenv/versions/3.8.12/lib/python3.8/site-packages (from jinja2->notebook->jupyter->vpython) (2.0.1)\n",
      "Requirement already satisfied: aiohttp in /home/gitpod/.pyenv/versions/3.8.12/lib/python3.8/site-packages (from jupyter-server-proxy->vpython) (3.8.1)\n",
      "Requirement already satisfied: simpervisor>=0.4 in /home/gitpod/.pyenv/versions/3.8.12/lib/python3.8/site-packages (from jupyter-server-proxy->vpython) (0.4)\n",
      "Requirement already satisfied: jupyter-server>=1.0 in /home/gitpod/.pyenv/versions/3.8.12/lib/python3.8/site-packages (from jupyter-server-proxy->vpython) (1.13.4)\n",
      "Requirement already satisfied: websocket-client in /home/gitpod/.pyenv/versions/3.8.12/lib/python3.8/site-packages (from jupyter-server>=1.0->jupyter-server-proxy->vpython) (1.2.3)\n",
      "Requirement already satisfied: packaging in /home/gitpod/.pyenv/versions/3.8.12/lib/python3.8/site-packages (from jupyter-server>=1.0->jupyter-server-proxy->vpython) (21.0)\n",
      "Requirement already satisfied: anyio<4,>=3.1.0 in /home/gitpod/.pyenv/versions/3.8.12/lib/python3.8/site-packages (from jupyter-server>=1.0->jupyter-server-proxy->vpython) (3.5.0)\n",
      "Requirement already satisfied: sniffio>=1.1 in /home/gitpod/.pyenv/versions/3.8.12/lib/python3.8/site-packages (from anyio<4,>=3.1.0->jupyter-server>=1.0->jupyter-server-proxy->vpython) (1.2.0)\n",
      "Requirement already satisfied: yarl<2.0,>=1.0 in /home/gitpod/.pyenv/versions/3.8.12/lib/python3.8/site-packages (from aiohttp->jupyter-server-proxy->vpython) (1.7.2)\n",
      "Requirement already satisfied: charset-normalizer<3.0,>=2.0 in /home/gitpod/.pyenv/versions/3.8.12/lib/python3.8/site-packages (from aiohttp->jupyter-server-proxy->vpython) (2.0.4)\n",
      "Requirement already satisfied: async-timeout<5.0,>=4.0.0a3 in /home/gitpod/.pyenv/versions/3.8.12/lib/python3.8/site-packages (from aiohttp->jupyter-server-proxy->vpython) (4.0.2)\n",
      "Requirement already satisfied: frozenlist>=1.1.1 in /home/gitpod/.pyenv/versions/3.8.12/lib/python3.8/site-packages (from aiohttp->jupyter-server-proxy->vpython) (1.3.0)\n",
      "Requirement already satisfied: multidict<7.0,>=4.5 in /home/gitpod/.pyenv/versions/3.8.12/lib/python3.8/site-packages (from aiohttp->jupyter-server-proxy->vpython) (6.0.1)\n",
      "Requirement already satisfied: aiosignal>=1.1.2 in /home/gitpod/.pyenv/versions/3.8.12/lib/python3.8/site-packages (from aiohttp->jupyter-server-proxy->vpython) (1.2.0)\n",
      "Requirement already satisfied: defusedxml in /home/gitpod/.pyenv/versions/3.8.12/lib/python3.8/site-packages (from nbconvert->jupyter->vpython) (0.7.1)\n",
      "Requirement already satisfied: testpath in /home/gitpod/.pyenv/versions/3.8.12/lib/python3.8/site-packages (from nbconvert->jupyter->vpython) (0.5.0)\n",
      "Requirement already satisfied: bleach in /home/gitpod/.pyenv/versions/3.8.12/lib/python3.8/site-packages (from nbconvert->jupyter->vpython) (4.1.0)\n",
      "Requirement already satisfied: jupyterlab-pygments in /home/gitpod/.pyenv/versions/3.8.12/lib/python3.8/site-packages (from nbconvert->jupyter->vpython) (0.1.2)\n",
      "Requirement already satisfied: mistune<2,>=0.8.1 in /home/gitpod/.pyenv/versions/3.8.12/lib/python3.8/site-packages (from nbconvert->jupyter->vpython) (0.8.4)\n",
      "Requirement already satisfied: nbclient<0.6.0,>=0.5.0 in /home/gitpod/.pyenv/versions/3.8.12/lib/python3.8/site-packages (from nbconvert->jupyter->vpython) (0.5.4)\n",
      "Requirement already satisfied: pandocfilters>=1.4.1 in /home/gitpod/.pyenv/versions/3.8.12/lib/python3.8/site-packages (from nbconvert->jupyter->vpython) (1.4.3)\n",
      "Requirement already satisfied: webencodings in /home/gitpod/.pyenv/versions/3.8.12/lib/python3.8/site-packages (from bleach->nbconvert->jupyter->vpython) (0.5.1)\n",
      "Requirement already satisfied: pyparsing>=2.0.2 in /home/gitpod/.pyenv/versions/3.8.12/lib/python3.8/site-packages (from packaging->jupyter-server>=1.0->jupyter-server-proxy->vpython) (2.4.7)\n",
      "Requirement already satisfied: qtpy in /home/gitpod/.pyenv/versions/3.8.12/lib/python3.8/site-packages (from qtconsole->jupyter->vpython) (2.0.0)\n",
      "\u001b[33mWARNING: You are using pip version 21.2.4; however, version 21.3.1 is available.\n",
      "You should consider upgrading via the '/home/gitpod/.pyenv/versions/3.8.12/bin/python3 -m pip install --upgrade pip' command.\u001b[0m\n"
     ]
    }
   ],
   "source": [
    "!pip install vpython"
   ]
  },
  {
   "cell_type": "code",
   "execution_count": 1,
   "id": "225c6e06",
   "metadata": {},
   "outputs": [
    {
     "data": {
      "text/html": [
       "<div id=\"glowscript\" class=\"glowscript\"></div>"
      ],
      "text/plain": [
       "<IPython.core.display.HTML object>"
      ]
     },
     "metadata": {},
     "output_type": "display_data"
    },
    {
     "data": {
      "application/javascript": [
       "if (typeof Jupyter !== \"undefined\") { window.__context = { glowscript_container: $(\"#glowscript\").removeAttr(\"id\")};}else{ element.textContent = ' ';}"
      ],
      "text/plain": [
       "<IPython.core.display.Javascript object>"
      ]
     },
     "metadata": {},
     "output_type": "display_data"
    }
   ],
   "source": [
    "from vpython import *"
   ]
  },
  {
   "cell_type": "code",
   "execution_count": 2,
   "id": "34ad5d1f",
   "metadata": {},
   "outputs": [
    {
     "data": {
      "text/html": [
       "<div id=\"glowscript\" class=\"glowscript\"></div>"
      ],
      "text/plain": [
       "<IPython.core.display.HTML object>"
      ]
     },
     "metadata": {},
     "output_type": "display_data"
    },
    {
     "data": {
      "application/javascript": [
       "if (typeof Jupyter !== \"undefined\") { window.__context = { glowscript_container: $(\"#glowscript\").removeAttr(\"id\")};}else{ element.textContent = ' ';}"
      ],
      "text/plain": [
       "<IPython.core.display.Javascript object>"
      ]
     },
     "metadata": {},
     "output_type": "display_data"
    }
   ],
   "source": [
    "scene = canvas(title=\"1D Motion\", width=800, height=600, x=0, y=0, center=vec(0, 0.1, 0), background=vec(0, 0.6, 0.6))"
   ]
  },
  {
   "cell_type": "code",
   "execution_count": 3,
   "id": "d2fe879c",
   "metadata": {},
   "outputs": [
    {
     "ename": "NameError",
     "evalue": "name 'L' is not defined",
     "output_type": "error",
     "traceback": [
      "\u001b[0;31m---------------------------------------------------------------------------\u001b[0m",
      "\u001b[0;31mNameError\u001b[0m                                 Traceback (most recent call last)",
      "\u001b[0;32m/tmp/ipykernel_4809/1229478012.py\u001b[0m in \u001b[0;36m<module>\u001b[0;34m\u001b[0m\n\u001b[0;32m----> 1\u001b[0;31m \u001b[0mfloor\u001b[0m \u001b[0;34m=\u001b[0m \u001b[0mbox\u001b[0m\u001b[0;34m(\u001b[0m\u001b[0mpos\u001b[0m\u001b[0;34m=\u001b[0m\u001b[0mvec\u001b[0m\u001b[0;34m(\u001b[0m\u001b[0;36m0\u001b[0m\u001b[0;34m,\u001b[0m \u001b[0;36m0\u001b[0m\u001b[0;34m,\u001b[0m \u001b[0;36m0\u001b[0m\u001b[0;34m)\u001b[0m\u001b[0;34m,\u001b[0m \u001b[0msize\u001b[0m\u001b[0;34m=\u001b[0m\u001b[0mvec\u001b[0m\u001b[0;34m(\u001b[0m\u001b[0mL\u001b[0m\u001b[0;34m,\u001b[0m \u001b[0;36m0.1\u001b[0m\u001b[0;34m*\u001b[0m\u001b[0msize\u001b[0m\u001b[0;34m,\u001b[0m \u001b[0;36m0.5\u001b[0m\u001b[0;34m*\u001b[0m\u001b[0mL\u001b[0m\u001b[0;34m)\u001b[0m\u001b[0;34m,\u001b[0m \u001b[0mcolor\u001b[0m\u001b[0;34m=\u001b[0m\u001b[0mcolor\u001b[0m\u001b[0;34m.\u001b[0m\u001b[0mblue\u001b[0m\u001b[0;34m)\u001b[0m\u001b[0;34m\u001b[0m\u001b[0;34m\u001b[0m\u001b[0m\n\u001b[0m",
      "\u001b[0;31mNameError\u001b[0m: name 'L' is not defined"
     ]
    }
   ],
   "source": [
    "floor = box(pos=vec(0, 0, 0), size=vec(L, 0.1*size, 0.5*L), color=color.blue)"
   ]
  },
  {
   "cell_type": "code",
   "execution_count": 4,
   "id": "f1fcef11",
   "metadata": {},
   "outputs": [],
   "source": [
    "size = 0.1   # 木塊邊長\n",
    "L = 1        # 地板長度\n",
    "v = 0.03     # 木塊速度\n",
    "t = 0        # 時間\n",
    "dt = 0.01    # 時間間隔"
   ]
  },
  {
   "cell_type": "code",
   "execution_count": 5,
   "id": "5384663b",
   "metadata": {},
   "outputs": [
    {
     "data": {
      "application/javascript": [
       "if (typeof Jupyter !== \"undefined\") {require.undef(\"nbextensions/vpython_libraries/glow.min\");}else{element.textContent = ' ';}"
      ],
      "text/plain": [
       "<IPython.core.display.Javascript object>"
      ]
     },
     "metadata": {},
     "output_type": "display_data"
    },
    {
     "data": {
      "application/javascript": [
       "if (typeof Jupyter !== \"undefined\") {require.undef(\"nbextensions/vpython_libraries/glowcomm\");}else{element.textContent = ' ';}"
      ],
      "text/plain": [
       "<IPython.core.display.Javascript object>"
      ]
     },
     "metadata": {},
     "output_type": "display_data"
    },
    {
     "data": {
      "application/javascript": [
       "if (typeof Jupyter !== \"undefined\") {require.undef(\"nbextensions/vpython_libraries/jquery-ui.custom.min\");}else{element.textContent = ' ';}"
      ],
      "text/plain": [
       "<IPython.core.display.Javascript object>"
      ]
     },
     "metadata": {},
     "output_type": "display_data"
    },
    {
     "data": {
      "application/javascript": [
       "if (typeof Jupyter !== \"undefined\") {require([\"nbextensions/vpython_libraries/glow.min\"], function(){console.log(\"GLOW LOADED\");});}else{element.textContent = ' ';}"
      ],
      "text/plain": [
       "<IPython.core.display.Javascript object>"
      ]
     },
     "metadata": {},
     "output_type": "display_data"
    },
    {
     "data": {
      "application/javascript": [
       "if (typeof Jupyter !== \"undefined\") {require([\"nbextensions/vpython_libraries/glowcomm\"], function(){console.log(\"GLOWCOMM LOADED\");});}else{element.textContent = ' ';}"
      ],
      "text/plain": [
       "<IPython.core.display.Javascript object>"
      ]
     },
     "metadata": {},
     "output_type": "display_data"
    },
    {
     "data": {
      "application/javascript": [
       "if (typeof Jupyter !== \"undefined\") {require([\"nbextensions/vpython_libraries/jquery-ui.custom.min\"], function(){console.log(\"JQUERY LOADED\");});}else{element.textContent = ' ';}"
      ],
      "text/plain": [
       "<IPython.core.display.Javascript object>"
      ]
     },
     "metadata": {},
     "output_type": "display_data"
    }
   ],
   "source": [
    "floor = box(pos=vec(0, 0, 0), size=vec(L, 0.1*size, 0.5*L), color=color.blue)"
   ]
  },
  {
   "cell_type": "code",
   "execution_count": null,
   "id": "dd221e6b",
   "metadata": {},
   "outputs": [],
   "source": []
  }
 ],
 "metadata": {
  "kernelspec": {
   "display_name": "Python 3 (ipykernel)",
   "language": "python",
   "name": "python3"
  },
  "language_info": {
   "codemirror_mode": {
    "name": "ipython",
    "version": 3
   },
   "file_extension": ".py",
   "mimetype": "text/x-python",
   "name": "python",
   "nbconvert_exporter": "python",
   "pygments_lexer": "ipython3",
   "version": "3.8.12"
  }
 },
 "nbformat": 4,
 "nbformat_minor": 5
}
